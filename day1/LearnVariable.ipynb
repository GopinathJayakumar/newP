{
 "cells": [
  {
   "cell_type": "markdown",
   "metadata": {},
   "source": [
    "# Variables\n",
    "- Storing and working with data in computer's memory.\n",
    "- Variable is name storage location in computer's memory for holding pieces of information.\n",
    "\n",
    "\n",
    "###### Valid Variable Name\n",
    "\n",
    "- can be in alphabet with range of a to z or A to Z\n",
    "   - * myVariable\n",
    "   - * myVariable45\n",
    "   - * _myVariable\n",
    "   \n",
    "\n",
    "###### Invalid Variable Name\n",
    "- should not start with digits\n",
    "- should not be keywords\n",
    "- cannot use special symbols !,@,#,$,%\n",
    "   - * 5myVariable\n",
    "   - * !myVariable\n",
    "  \n",
    "     \n",
    "\n",
    "## Keywords:- Not Allowed\n",
    "\n",
    "- global = 5 \n",
    "- break = 3     \n",
    "\n"
   ]
  },
  {
   "cell_type": "code",
   "execution_count": null,
   "metadata": {},
   "outputs": [],
   "source": [
    "# Valid\n",
    "myVariable = 5\n",
    "myVarialbe123 = 10\n",
    "_my Variable = 20\n",
    "\n",
    "#Invalid\n",
    "5myVariabl= 1\n",
    "!myVariable = 2"
   ]
  },
  {
   "cell_type": "markdown",
   "metadata": {},
   "source": [
    "## Case sensitive language"
   ]
  },
  {
   "cell_type": "code",
   "execution_count": 4,
   "metadata": {},
   "outputs": [
    {
     "name": "stdout",
     "output_type": "stream",
     "text": [
      "2019\n",
      "2018\n"
     ]
    }
   ],
   "source": [
    "year = 2019\n",
    "Year = 2018\n",
    "\n",
    "print(year)\n",
    "print(Year)"
   ]
  },
  {
   "cell_type": "markdown",
   "metadata": {},
   "source": [
    "## Operators\n",
    "\n",
    "- __Arithmetic Operators__\n",
    "- __Relational Operators or Comparison Operators__\n",
    "- __Logical operators__ \n",
    "- __Bitwise oeprators__ \n",
    "- __Assignment operators__\n",
    "- __Ternary Operator__\n",
    "- __Special operators__"
   ]
  },
  {
   "cell_type": "markdown",
   "metadata": {},
   "source": [
    "## Arithmetic Operators"
   ]
  },
  {
   "cell_type": "code",
   "execution_count": 3,
   "metadata": {},
   "outputs": [
    {
     "name": "stdout",
     "output_type": "stream",
     "text": [
      "6\n",
      "2\n",
      "8\n",
      "2.0\n",
      "16\n",
      "2\n",
      "0\n"
     ]
    }
   ],
   "source": [
    "# + Addition\n",
    "# - Subtraction\n",
    "# * Multiplication\n",
    "# / Division\n",
    "# % Mod (the remainder after dividing)\n",
    "# ** Exponentiation or Power Operator (note that ^ does not do this operation, as you might have seen in other languages)\n",
    "# // Divides and rounds down to the nearest intege \n",
    "\n",
    "a = 4\n",
    "b = 2\n",
    "\n",
    "print(a + b)\n",
    "print(a - b)\n",
    "print(a * b)\n",
    "print(a / b)\n",
    "print(a ** b)\n",
    "print(a // b)\n",
    "print(a % b)"
   ]
  },
  {
   "cell_type": "markdown",
   "metadata": {},
   "source": [
    "## Relational Operators or Comparison Operators"
   ]
  },
  {
   "cell_type": "code",
   "execution_count": null,
   "metadata": {},
   "outputs": [],
   "source": [
    "# >  Greater Than (>) Operator\n",
    "# >= Greater Than or Equal To  (>=) Operator\n",
    "# <  Less Than (<) Operator\n",
    "# <= Less Than or Equal To (<=) Operator\n",
    "\n",
    "\n",
    "# Equality operators:\n",
    "# == Equal To (==) Operator\n",
    "# != Not Equal Operator (!=) Operator"
   ]
  },
  {
   "cell_type": "code",
   "execution_count": 13,
   "metadata": {},
   "outputs": [
    {
     "name": "stdout",
     "output_type": "stream",
     "text": [
      "a >  b is -----> False\n",
      "a >= b is -----> False\n",
      "a <  b is -----> True\n",
      "a <= b is -----> True\n",
      "\n",
      "a ==  b is ----> False\n",
      "a !=  b is ----> True\n"
     ]
    }
   ],
   "source": [
    "a = 10\n",
    "b = 20\n",
    "\n",
    "print (\"a >  b is ----->\",  a > b)\n",
    "print (\"a >= b is ----->\", a >= b)\n",
    "print (\"a <  b is ----->\",  a < b)\n",
    "print (\"a <= b is ----->\", a <= b)\n",
    "print()\n",
    "\n",
    "print(\"a ==  b is ---->\", a==b)\n",
    "print(\"a !=  b is ---->\", a!=b)\n"
   ]
  },
  {
   "cell_type": "markdown",
   "metadata": {},
   "source": [
    "## Logical operators\n",
    "- We can apply for all types. "
   ]
  },
  {
   "cell_type": "code",
   "execution_count": null,
   "metadata": {},
   "outputs": [],
   "source": [
    "# and, or, not\n",
    "\n",
    "# and -> If both arguments are True then only result is True \n",
    "# or  -> If atleast one arugemnt is True then result is True \n",
    "# not -> complement "
   ]
  },
  {
   "cell_type": "markdown",
   "metadata": {},
   "source": [
    "## Bitwise Operators\n",
    "- We can apply these operators bitwise.\n",
    "- These operators are applicable only for int and boolean types.\n",
    "- By mistake if we are trying to apply for any other type then we will get Error. "
   ]
  },
  {
   "cell_type": "code",
   "execution_count": 14,
   "metadata": {},
   "outputs": [],
   "source": [
    "#  &, |, ^, ~, <<, >>\n",
    "\n",
    "#  &  ----- If both bits are 1 then only result is 1 otherwise result is 0\n",
    "#  |  ----- If atleast one bit is 1 then result is 1 otherwise result is 0 \n",
    "#  ^  ----- If  bits are different then only result is 1 otherwise result is 0 \n",
    "#  ~  ----- Bitwise complement operator i.e 1 means 0 and 0 means 1 \n",
    "#  >> ----- Bitwise Left shift Operator \n",
    "#  << ----- Bitwise Right shift Operator "
   ]
  },
  {
   "cell_type": "markdown",
   "metadata": {},
   "source": [
    "## Assignment operators\n",
    "\n",
    " - We can use assignment operator to assign value to the variable. Eg:   x = 100   \n",
    " - We can combine asignment operator with some other operator to form compound assignment operator.   \n",
    " - Eg:   x += 10 (or) x = x+10  \n",
    " \n",
    "  - The following is the list of all possible compound assignment operators in Python  "
   ]
  },
  {
   "cell_type": "code",
   "execution_count": null,
   "metadata": {},
   "outputs": [],
   "source": [
    "# +=\n",
    "# -=\n",
    "# *=\n",
    "# /=\n",
    "# %=\n",
    "# //=\n",
    "# **=\n",
    "# &=\n",
    "# |=\n",
    "# ^= "
   ]
  },
  {
   "cell_type": "markdown",
   "metadata": {},
   "source": [
    "## Ternary Operator\n",
    "- **Syntax:**   x =  firstValue if condition else secondValue  \n",
    "- If condition is True then firstValue will be considered else secondValue will be considered. "
   ]
  },
  {
   "cell_type": "code",
   "execution_count": 15,
   "metadata": {},
   "outputs": [
    {
     "name": "stdout",
     "output_type": "stream",
     "text": [
      "Enter First Number:20\n",
      "Enter Second Number:30\n",
      "Minimum Value: 20\n"
     ]
    }
   ],
   "source": [
    "# Read two numbers from the keyboard and print minimum value \n",
    "a=int(input(\"Enter First Number:\")) \n",
    "b=int(input(\"Enter Second Number:\"))   \n",
    "min=a if a<b else b # ----------------------> example of Ternary Operator\n",
    "print(\"Minimum Value:\",min) "
   ]
  },
  {
   "cell_type": "markdown",
   "metadata": {},
   "source": [
    "## Special operators\n",
    " - There are two Special Operators in Python\n",
    " > **Identity Operators** \n",
    " \n",
    " > **Membership operators**\n"
   ]
  },
  {
   "cell_type": "markdown",
   "metadata": {},
   "source": [
    "### Identity Operators:- \n",
    "- **is**\n",
    "- **is not**\n",
    "\n",
    "> Val1 **is** Val2   returns True if both Val1 and Val2 are pointing to the same object.\n",
    "\n",
    "> Val1 **is not** Val2 returns True if both r1 and r2 are not pointing to the same object ."
   ]
  },
  {
   "cell_type": "markdown",
   "metadata": {},
   "source": [
    "### Membership operators:- \n",
    "- **in**\n",
    "- **not in**\n",
    "<br>\n",
    "\n",
    "- We can use Membership operators to check whether the given object present in the given collection.(It may be String,List,Set,Tuple or Dict) \n",
    "\n",
    " > **in**  Returns True if the given object present in the specified Collection.\n",
    " \n",
    " > **not in** Retruns True if the given object not present in the specified Collection ."
   ]
  },
  {
   "cell_type": "code",
   "execution_count": null,
   "metadata": {},
   "outputs": [],
   "source": [
    "a = 2\n",
    "b = 3\n",
    "c = 5\n",
    "\n",
    "print(\"add the values\", a+b+c)\n",
    "\n"
   ]
  },
  {
   "cell_type": "code",
   "execution_count": null,
   "metadata": {},
   "outputs": [],
   "source": [
    "#write a program to print the given input with mul of 6\n",
    "print(\"5 * 1 = 5\")"
   ]
  },
  {
   "cell_type": "code",
   "execution_count": null,
   "metadata": {},
   "outputs": [],
   "source": [
    "#Multiplication - using format function with index\n",
    "print(\"{0} * {1} = {2}\".format(5, 5, 5*5))\n",
    "\n",
    "print(f\"{5} * {5} = {5*5}\")"
   ]
  },
  {
   "cell_type": "code",
   "execution_count": null,
   "metadata": {},
   "outputs": [],
   "source": [
    "#Write an expression to calculate number of minutes in a day.\n",
    "24*60\n"
   ]
  },
  {
   "cell_type": "code",
   "execution_count": null,
   "metadata": {},
   "outputs": [],
   "source": [
    "#Write an expression to calculate number of seconds in a day.\n",
    "24*60*60"
   ]
  },
  {
   "cell_type": "code",
   "execution_count": null,
   "metadata": {},
   "outputs": [],
   "source": [
    "# using 2 Ver\n",
    "for i in range(1,5):\n",
    "    print(\"{0} * {1} = {2}\".format(5, i, 5*i))"
   ]
  }
 ],
 "metadata": {
  "kernelspec": {
   "display_name": "Python 3",
   "language": "python",
   "name": "python3"
  },
  "language_info": {
   "codemirror_mode": {
    "name": "ipython",
    "version": 3
   },
   "file_extension": ".py",
   "mimetype": "text/x-python",
   "name": "python",
   "nbconvert_exporter": "python",
   "pygments_lexer": "ipython3",
   "version": "3.7.3"
  }
 },
 "nbformat": 4,
 "nbformat_minor": 2
}
