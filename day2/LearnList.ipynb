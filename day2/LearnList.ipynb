{
 "cells": [
  {
   "cell_type": "code",
   "execution_count": 29,
   "metadata": {},
   "outputs": [],
   "source": [
    "#Data Structure [Non - Primitive Data Structure] - List, Tuples, Dictionary, set and Files\n",
    "   \n",
    "    # Manipulating individual values is very difficult. so we focus into the DataStructure. \n",
    "        # Note:: we can add any type of data values in list\n",
    "\n",
    "    #List -> \n",
    "    \n",
    "        # len          :    its return count of item\n",
    "        # sum          :    sum the each item in the list(only for integer)\n",
    "        # min          :    its print minimum value in the given list\n",
    "        # max          :    its return maximum value in the given list\n",
    "       \n",
    "        # append       :    its add values in existing list(one element)\n",
    "        # extend       :    its add list of elements  (collection of elements)\n",
    "        # insert       :    its add value in specific index in the list\n",
    "       \n",
    "        # remove       :    its remove the first matching value from list based on given value(if you know the value in list)\n",
    "        # del          :    its remove the value from list based on given index number\n",
    "        # pop          :    its remove the value from list based on given index number and its returns\n",
    "        \n",
    "        # reverse      :    its reverse the existing list\n",
    "        # reversed     :    its gives output in reverse order. (use for loop)\n",
    "        \n",
    "        # sort         :    its sort in alphabet.\n",
    "        # sorted       :    its gives output in sorted order. (use for loop)\n",
    "        \n",
    "        \n",
    "        \n",
    "    # List Slicing ->   A Python slice extracts elements, based on a start and stop. We take slices on many types in Python.\n",
    "                        # We specify an optional first index, an optional last index, and an optional step.  \n",
    "\n",
    "    \n",
    "        # list[inclusive:exclusive] : for subset of list\n",
    "        "
   ]
  },
  {
   "cell_type": "code",
   "execution_count": 39,
   "metadata": {},
   "outputs": [],
   "source": [
    "# Create a list\n",
    "# mobiles.clear()\n",
    "mobiles = ['sumsung', 'LG', 'OnePlus', 'Apple']"
   ]
  },
  {
   "cell_type": "code",
   "execution_count": 40,
   "metadata": {},
   "outputs": [
    {
     "data": {
      "text/plain": [
       "'sumsung'"
      ]
     },
     "execution_count": 40,
     "metadata": {},
     "output_type": "execute_result"
    }
   ],
   "source": [
    "# Array Index\n",
    "mobiles[0]"
   ]
  },
  {
   "cell_type": "code",
   "execution_count": 41,
   "metadata": {},
   "outputs": [
    {
     "name": "stdout",
     "output_type": "stream",
     "text": [
      "<class 'list'>\n",
      "['sumsung', 'LG', 'OnePlus', 'Apple']\n"
     ]
    }
   ],
   "source": [
    "# Verify DataType of variable\n",
    "print(type(mobiles))\n",
    "print(mobiles)"
   ]
  },
  {
   "cell_type": "code",
   "execution_count": 42,
   "metadata": {},
   "outputs": [
    {
     "data": {
      "text/plain": [
       "'Apple'"
      ]
     },
     "execution_count": 42,
     "metadata": {},
     "output_type": "execute_result"
    }
   ],
   "source": [
    "#fetch minimum value in List\n",
    "min(mobiles)"
   ]
  },
  {
   "cell_type": "code",
   "execution_count": 43,
   "metadata": {},
   "outputs": [
    {
     "data": {
      "text/plain": [
       "'sumsung'"
      ]
     },
     "execution_count": 43,
     "metadata": {},
     "output_type": "execute_result"
    }
   ],
   "source": [
    "#fetch maximum value in List\n",
    "max(mobiles)"
   ]
  },
  {
   "cell_type": "code",
   "execution_count": 44,
   "metadata": {},
   "outputs": [
    {
     "data": {
      "text/plain": [
       "4"
      ]
     },
     "execution_count": 44,
     "metadata": {},
     "output_type": "execute_result"
    }
   ],
   "source": [
    "# for Count of list\n",
    "len(mobiles)"
   ]
  },
  {
   "cell_type": "code",
   "execution_count": 45,
   "metadata": {},
   "outputs": [],
   "source": [
    "# append value in to list -> append @ last\n",
    "mobiles.append(\"Redmi\")"
   ]
  },
  {
   "cell_type": "code",
   "execution_count": 46,
   "metadata": {},
   "outputs": [
    {
     "name": "stdout",
     "output_type": "stream",
     "text": [
      "['sumsung', 'LG', 'OnePlus', 'Apple', 'Redmi']\n"
     ]
    }
   ],
   "source": [
    "print(mobiles)"
   ]
  },
  {
   "cell_type": "code",
   "execution_count": 47,
   "metadata": {},
   "outputs": [
    {
     "name": "stdout",
     "output_type": "stream",
     "text": [
      "['sumsung', 'LG', 'OnePlus', 'Apple', 'Redmi', 'Honor', 'Sony']\n"
     ]
    }
   ],
   "source": [
    "# extend list on element in to list\n",
    "mobiles.extend([\"Honor\",\"Sony\"])\n",
    "print(mobiles)"
   ]
  },
  {
   "cell_type": "code",
   "execution_count": 49,
   "metadata": {},
   "outputs": [
    {
     "name": "stdout",
     "output_type": "stream",
     "text": [
      "['sumsung', 'LG', 'OnePlus', 'Apple', 'Redmi', 'Honor', 'Sony', 'Honor', 'Sony', 'Gopi']\n"
     ]
    }
   ],
   "source": [
    "# Another way to extend the list of values\n",
    "mobiles = mobiles + [\"Honor\", \"Sony\", \"Gopi\"]     # or   mobile += [\"Honor\", \"Sony\"]\n",
    "print(mobiles)"
   ]
  },
  {
   "cell_type": "code",
   "execution_count": 50,
   "metadata": {},
   "outputs": [],
   "source": [
    "# insert value based on specific index number\n",
    "mobiles.insert(2, \"Gopi\")"
   ]
  },
  {
   "cell_type": "code",
   "execution_count": 51,
   "metadata": {},
   "outputs": [
    {
     "name": "stdout",
     "output_type": "stream",
     "text": [
      "['sumsung', 'LG', 'Gopi', 'OnePlus', 'Apple', 'Redmi', 'Honor', 'Sony', 'Honor', 'Sony', 'Gopi']\n",
      "\n"
     ]
    }
   ],
   "source": [
    "print(mobiles)\n",
    "\n",
    "print()"
   ]
  },
  {
   "cell_type": "code",
   "execution_count": 52,
   "metadata": {},
   "outputs": [],
   "source": [
    "mobiles.remove('Gopi')"
   ]
  },
  {
   "cell_type": "code",
   "execution_count": 53,
   "metadata": {},
   "outputs": [
    {
     "name": "stdout",
     "output_type": "stream",
     "text": [
      "['sumsung', 'LG', 'OnePlus', 'Apple', 'Redmi', 'Honor', 'Sony', 'Honor', 'Sony', 'Gopi']\n"
     ]
    }
   ],
   "source": [
    "print(mobiles)"
   ]
  },
  {
   "cell_type": "code",
   "execution_count": 1,
   "metadata": {},
   "outputs": [
    {
     "name": "stdout",
     "output_type": "stream",
     "text": [
      "Apple\n",
      "OnePlus\n",
      "LG\n",
      "sumsung\n",
      "23\n",
      "3\n",
      "6\n",
      "2\n"
     ]
    }
   ],
   "source": [
    "#for reversed\n",
    "mobiles = ['sumsung', 'LG', 'OnePlus', 'Apple']\n",
    "for eachmobile in reversed(mobiles):\n",
    "    print(eachmobile)\n",
    "\n",
    "number = [2,6, 3, 23]\n",
    "for eachNumber in reversed(number):\n",
    "    print(eachNumber)"
   ]
  },
  {
   "cell_type": "code",
   "execution_count": 56,
   "metadata": {},
   "outputs": [
    {
     "name": "stdout",
     "output_type": "stream",
     "text": [
      "Apple\n",
      "LG\n",
      "OnePlus\n",
      "sumsung\n"
     ]
    }
   ],
   "source": [
    "#for sorted\n",
    "mobiles = ['sumsung', 'LG', 'OnePlus', 'Apple']\n",
    "for eachmobile in sorted(mobiles):\n",
    "    print(eachmobile)\n"
   ]
  }
 ],
 "metadata": {
  "kernelspec": {
   "display_name": "Python 3",
   "language": "python",
   "name": "python3"
  },
  "language_info": {
   "codemirror_mode": {
    "name": "ipython",
    "version": 3
   },
   "file_extension": ".py",
   "mimetype": "text/x-python",
   "name": "python",
   "nbconvert_exporter": "python",
   "pygments_lexer": "ipython3",
   "version": "3.7.3"
  }
 },
 "nbformat": 4,
 "nbformat_minor": 2
}
